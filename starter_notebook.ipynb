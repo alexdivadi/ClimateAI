{
 "cells": [
  {
   "cell_type": "markdown",
   "metadata": {
    "id": "sQDI99NgUbX-"
   },
   "source": [
    "# **Background information:** \n",
    "\n",
    "Welcome to the coding challenging! This will be a 3-part challenge and you will develop an image processing and computer vision techniques to analyze the health of Solar photovoltaic (PV) systems. The challenege will be judged based on these  three results.\n",
    "\n",
    "**(a)**Bench marking classification results that can be shared broadly with the community. \n",
    "\n",
    "\n",
    "**(b)**Algorithm optimization towards real-time classification that can be used by low performance edge-computing devices.\n",
    "\n",
    "## **Bonus**\n",
    "**(c)** Incorporation of more classes and the ability to recognize anomalies that are outside of the 12 classes of InfraredSolarModules.\n",
    "\n",
    "\n",
    "We will be focusing on Solar photovoltaic (PV) datasets. Here's something we'd like you to know before you start:\n",
    "\n",
    "We would like you to pre-process, visualize, perform an exploratory data analysis. Correlation analysis and anything you can think of are welcomed.\n",
    "\n",
    "\n",
    "\n",
    "\n",
    "If you have any questions, feel free to reach out to **@Tannistha** :)"
   ]
  },
  {
   "cell_type": "markdown",
   "metadata": {
    "id": "c7-rPOFNpY9x"
   },
   "source": [
    "## **Data downloads and requirements**:\n",
    "\n",
    "We will use datasets from:\n",
    "https://github.com/RaptorMaps/InfraredSolarModules\n",
    "\n",
    "\n",
    "You are encouraged to use Python and its libraries for this challenge. For evaluation, we recommend numpy, pandas, matplotlib and seaborn for part a and Keras or PyTorch for part b. Please submit your work as one single .ipynb (recommended) or .py file.\n",
    "Please attach your model file that has weight (pkl) and a explain how to use it with new dataset."
   ]
  },
  {
   "cell_type": "markdown",
   "metadata": {
    "id": "zkCt23ZyG0I8"
   },
   "source": [
    "### Link to previous work is available on \n",
    "\n",
    "*   InfraRed Thermography:\n",
    "\n",
    "https://www.mdpi.com/1424-8220/20/4/1055\n",
    "\n",
    "https://www.mdpi.com/1424-8220/20/4/1055\n",
    "*   Other relevant links\n",
    "\n",
    "\n",
    "\n",
    "http://arxiv.org/abs/1807.02894\n",
    "\n",
    "https://ai4earthscience.github.io/iclr-2020-workshop/papers/ai4earth22.pdf\n",
    "\n",
    "https://onlinelibrary.wiley.com/doi/abs/10.1002/pip.3191\n",
    "\n",
    "https://www.sciencedirect.com/science/article/abs/pii/S0038092X20308665\n"
   ]
  },
  {
   "cell_type": "code",
   "execution_count": 1,
   "metadata": {},
   "outputs": [],
   "source": [
    "import pandas as pd\n",
    "import matplotlib.pyplot as plt\n",
    "import matplotlib.image as img\n",
    "import numpy as np\n",
    "import json\n",
    "import os\n",
    "import random"
   ]
  },
  {
   "cell_type": "code",
   "execution_count": 4,
   "metadata": {},
   "outputs": [
    {
     "data": {
      "text/plain": [
       "['.ipynb_checkpoints',\n",
       " 'Data_exploration.ipynb',\n",
       " 'holdout_set.docx',\n",
       " 'holdout_set.txt',\n",
       " 'images',\n",
       " 'module_metadata.json',\n",
       " 'starter_notebook.ipynb']"
      ]
     },
     "execution_count": 4,
     "metadata": {},
     "output_type": "execute_result"
    }
   ],
   "source": [
    "os.listdir('./')"
   ]
  },
  {
   "cell_type": "code",
   "execution_count": 2,
   "metadata": {},
   "outputs": [],
   "source": [
    "with open(\"./module_metadata.json\", 'r') as read_file:\n",
    "    data = json.load(read_file)"
   ]
  },
  {
   "cell_type": "code",
   "execution_count": 3,
   "metadata": {},
   "outputs": [
    {
     "data": {
      "text/html": [
       "<div>\n",
       "<style scoped>\n",
       "    .dataframe tbody tr th:only-of-type {\n",
       "        vertical-align: middle;\n",
       "    }\n",
       "\n",
       "    .dataframe tbody tr th {\n",
       "        vertical-align: top;\n",
       "    }\n",
       "\n",
       "    .dataframe thead th {\n",
       "        text-align: right;\n",
       "    }\n",
       "</style>\n",
       "<table border=\"1\" class=\"dataframe\">\n",
       "  <thead>\n",
       "    <tr style=\"text-align: right;\">\n",
       "      <th></th>\n",
       "      <th>13357</th>\n",
       "      <th>13356</th>\n",
       "      <th>19719</th>\n",
       "      <th>11542</th>\n",
       "      <th>11543</th>\n",
       "      <th>11540</th>\n",
       "      <th>11541</th>\n",
       "      <th>11546</th>\n",
       "      <th>11547</th>\n",
       "      <th>11544</th>\n",
       "      <th>...</th>\n",
       "      <th>8483</th>\n",
       "      <th>8484</th>\n",
       "      <th>8485</th>\n",
       "      <th>8486</th>\n",
       "      <th>8487</th>\n",
       "      <th>8488</th>\n",
       "      <th>8489</th>\n",
       "      <th>7464</th>\n",
       "      <th>18065</th>\n",
       "      <th>13354</th>\n",
       "    </tr>\n",
       "  </thead>\n",
       "  <tbody>\n",
       "    <tr>\n",
       "      <th>image_filepath</th>\n",
       "      <td>images/13357.jpg</td>\n",
       "      <td>images/13356.jpg</td>\n",
       "      <td>images/19719.jpg</td>\n",
       "      <td>images/11542.jpg</td>\n",
       "      <td>images/11543.jpg</td>\n",
       "      <td>images/11540.jpg</td>\n",
       "      <td>images/11541.jpg</td>\n",
       "      <td>images/11546.jpg</td>\n",
       "      <td>images/11547.jpg</td>\n",
       "      <td>images/11544.jpg</td>\n",
       "      <td>...</td>\n",
       "      <td>images/8483.jpg</td>\n",
       "      <td>images/8484.jpg</td>\n",
       "      <td>images/8485.jpg</td>\n",
       "      <td>images/8486.jpg</td>\n",
       "      <td>images/8487.jpg</td>\n",
       "      <td>images/8488.jpg</td>\n",
       "      <td>images/8489.jpg</td>\n",
       "      <td>images/7464.jpg</td>\n",
       "      <td>images/18065.jpg</td>\n",
       "      <td>images/13354.jpg</td>\n",
       "    </tr>\n",
       "    <tr>\n",
       "      <th>anomaly_class</th>\n",
       "      <td>No-Anomaly</td>\n",
       "      <td>No-Anomaly</td>\n",
       "      <td>No-Anomaly</td>\n",
       "      <td>No-Anomaly</td>\n",
       "      <td>No-Anomaly</td>\n",
       "      <td>No-Anomaly</td>\n",
       "      <td>No-Anomaly</td>\n",
       "      <td>No-Anomaly</td>\n",
       "      <td>No-Anomaly</td>\n",
       "      <td>No-Anomaly</td>\n",
       "      <td>...</td>\n",
       "      <td>Vegetation</td>\n",
       "      <td>Vegetation</td>\n",
       "      <td>Vegetation</td>\n",
       "      <td>Vegetation</td>\n",
       "      <td>Vegetation</td>\n",
       "      <td>Vegetation</td>\n",
       "      <td>Vegetation</td>\n",
       "      <td>Cracking</td>\n",
       "      <td>No-Anomaly</td>\n",
       "      <td>No-Anomaly</td>\n",
       "    </tr>\n",
       "  </tbody>\n",
       "</table>\n",
       "<p>2 rows × 19903 columns</p>\n",
       "</div>"
      ],
      "text/plain": [
       "                           13357             13356             19719  \\\n",
       "image_filepath  images/13357.jpg  images/13356.jpg  images/19719.jpg   \n",
       "anomaly_class         No-Anomaly        No-Anomaly        No-Anomaly   \n",
       "\n",
       "                           11542             11543             11540  \\\n",
       "image_filepath  images/11542.jpg  images/11543.jpg  images/11540.jpg   \n",
       "anomaly_class         No-Anomaly        No-Anomaly        No-Anomaly   \n",
       "\n",
       "                           11541             11546             11547  \\\n",
       "image_filepath  images/11541.jpg  images/11546.jpg  images/11547.jpg   \n",
       "anomaly_class         No-Anomaly        No-Anomaly        No-Anomaly   \n",
       "\n",
       "                           11544  ...             8483             8484  \\\n",
       "image_filepath  images/11544.jpg  ...  images/8483.jpg  images/8484.jpg   \n",
       "anomaly_class         No-Anomaly  ...       Vegetation       Vegetation   \n",
       "\n",
       "                           8485             8486             8487  \\\n",
       "image_filepath  images/8485.jpg  images/8486.jpg  images/8487.jpg   \n",
       "anomaly_class        Vegetation       Vegetation       Vegetation   \n",
       "\n",
       "                           8488             8489             7464  \\\n",
       "image_filepath  images/8488.jpg  images/8489.jpg  images/7464.jpg   \n",
       "anomaly_class        Vegetation       Vegetation         Cracking   \n",
       "\n",
       "                           18065             13354  \n",
       "image_filepath  images/18065.jpg  images/13354.jpg  \n",
       "anomaly_class         No-Anomaly        No-Anomaly  \n",
       "\n",
       "[2 rows x 19903 columns]"
      ]
     },
     "execution_count": 3,
     "metadata": {},
     "output_type": "execute_result"
    }
   ],
   "source": [
    "df_files = pd.DataFrame(data)\n",
    "df_files.head()"
   ]
  },
  {
   "cell_type": "code",
   "execution_count": 63,
   "metadata": {},
   "outputs": [],
   "source": [
    "def loadFiles(data):\n",
    "    new_df = []\n",
    "    for file in data.iloc[0]:\n",
    "        img_data = img.imread(file)\n",
    "        new_df.append(img_data / 255)\n",
    "    return np.array(new_df)"
   ]
  },
  {
   "cell_type": "code",
   "execution_count": 30,
   "metadata": {},
   "outputs": [],
   "source": [
    "image_shape = (40, 24, 1)"
   ]
  },
  {
   "cell_type": "code",
   "execution_count": 64,
   "metadata": {},
   "outputs": [
    {
     "data": {
      "text/plain": [
       "array([[[0.55294118, 0.57647059, 0.61568627, ..., 0.60392157,\n",
       "         0.58039216, 0.55294118],\n",
       "        [0.55686275, 0.58431373, 0.62352941, ..., 0.59215686,\n",
       "         0.56862745, 0.54509804],\n",
       "        [0.56078431, 0.58823529, 0.63137255, ..., 0.60392157,\n",
       "         0.58431373, 0.56470588],\n",
       "        ...,\n",
       "        [0.54509804, 0.54509804, 0.57647059, ..., 0.58039216,\n",
       "         0.57254902, 0.54509804],\n",
       "        [0.50980392, 0.51372549, 0.54117647, ..., 0.53333333,\n",
       "         0.5254902 , 0.49411765],\n",
       "        [0.45490196, 0.45490196, 0.4745098 , ..., 0.45882353,\n",
       "         0.44705882, 0.41568627]],\n",
       "\n",
       "       [[0.38823529, 0.37254902, 0.35686275, ..., 0.64705882,\n",
       "         0.64705882, 0.64313725],\n",
       "        [0.40392157, 0.39607843, 0.38823529, ..., 0.62745098,\n",
       "         0.64313725, 0.65098039],\n",
       "        [0.45882353, 0.45098039, 0.45098039, ..., 0.6       ,\n",
       "         0.62352941, 0.63921569],\n",
       "        ...,\n",
       "        [0.56862745, 0.57254902, 0.58431373, ..., 0.61176471,\n",
       "         0.58823529, 0.56862745],\n",
       "        [0.56078431, 0.56470588, 0.57647059, ..., 0.60392157,\n",
       "         0.58431373, 0.56470588],\n",
       "        [0.54901961, 0.55686275, 0.57254902, ..., 0.6       ,\n",
       "         0.58039216, 0.56470588]],\n",
       "\n",
       "       [[0.96470588, 0.98823529, 0.98039216, ..., 0.86666667,\n",
       "         0.90196078, 0.91372549],\n",
       "        [0.96470588, 0.98431373, 0.97254902, ..., 0.8627451 ,\n",
       "         0.89411765, 0.90980392],\n",
       "        [0.97254902, 0.98431373, 0.97254902, ..., 0.87843137,\n",
       "         0.90980392, 0.92156863],\n",
       "        ...,\n",
       "        [0.91764706, 0.89803922, 0.89803922, ..., 0.92156863,\n",
       "         0.9254902 , 0.91372549],\n",
       "        [0.90196078, 0.87843137, 0.8745098 , ..., 0.89803922,\n",
       "         0.90588235, 0.90196078],\n",
       "        [0.90196078, 0.8745098 , 0.87058824, ..., 0.89019608,\n",
       "         0.90588235, 0.90588235]],\n",
       "\n",
       "       ...,\n",
       "\n",
       "       [[0.68235294, 0.67058824, 0.65098039, ..., 0.65490196,\n",
       "         0.63529412, 0.59607843],\n",
       "        [0.6745098 , 0.65882353, 0.63921569, ..., 0.69019608,\n",
       "         0.66666667, 0.62745098],\n",
       "        [0.69019608, 0.6745098 , 0.65490196, ..., 0.75686275,\n",
       "         0.72156863, 0.68627451],\n",
       "        ...,\n",
       "        [0.5254902 , 0.53333333, 0.56078431, ..., 0.8745098 ,\n",
       "         0.85490196, 0.78431373],\n",
       "        [0.50980392, 0.51372549, 0.53333333, ..., 0.87843137,\n",
       "         0.85882353, 0.77254902],\n",
       "        [0.48235294, 0.48627451, 0.50196078, ..., 0.8       ,\n",
       "         0.76862745, 0.67058824]],\n",
       "\n",
       "       [[0.78039216, 0.78823529, 0.79215686, ..., 0.80784314,\n",
       "         0.79607843, 0.78823529],\n",
       "        [0.80784314, 0.81568627, 0.81960784, ..., 0.82745098,\n",
       "         0.81176471, 0.8       ],\n",
       "        [0.82745098, 0.83137255, 0.83921569, ..., 0.84705882,\n",
       "         0.82352941, 0.81176471],\n",
       "        ...,\n",
       "        [0.79215686, 0.8       , 0.80784314, ..., 0.83921569,\n",
       "         0.82352941, 0.81176471],\n",
       "        [0.79215686, 0.79215686, 0.79607843, ..., 0.83137255,\n",
       "         0.81568627, 0.80392157],\n",
       "        [0.79215686, 0.78823529, 0.79215686, ..., 0.82352941,\n",
       "         0.81176471, 0.80392157]],\n",
       "\n",
       "       [[0.56470588, 0.58039216, 0.59215686, ..., 0.55686275,\n",
       "         0.54509804, 0.5372549 ],\n",
       "        [0.50980392, 0.53333333, 0.54901961, ..., 0.52941176,\n",
       "         0.52156863, 0.51372549],\n",
       "        [0.49019608, 0.5254902 , 0.54901961, ..., 0.54509804,\n",
       "         0.54509804, 0.54901961],\n",
       "        ...,\n",
       "        [0.69411765, 0.70588235, 0.71372549, ..., 0.65098039,\n",
       "         0.64313725, 0.62745098],\n",
       "        [0.70196078, 0.70980392, 0.71372549, ..., 0.65882353,\n",
       "         0.65882353, 0.65098039],\n",
       "        [0.69411765, 0.70588235, 0.70980392, ..., 0.64313725,\n",
       "         0.64705882, 0.63921569]]])"
      ]
     },
     "execution_count": 64,
     "metadata": {},
     "output_type": "execute_result"
    }
   ],
   "source": [
    "X = loadFiles(df_files)\n",
    "X"
   ]
  },
  {
   "cell_type": "code",
   "execution_count": 65,
   "metadata": {},
   "outputs": [
    {
     "data": {
      "text/plain": [
       "array(['No-Anomaly', 'No-Anomaly', 'No-Anomaly', ..., 'Cracking',\n",
       "       'No-Anomaly', 'No-Anomaly'], dtype=object)"
      ]
     },
     "execution_count": 65,
     "metadata": {},
     "output_type": "execute_result"
    }
   ],
   "source": [
    "y = df_files.iloc[1]\n",
    "pd.DataFrame(y)\n",
    "y.to_numpy()"
   ]
  },
  {
   "cell_type": "code",
   "execution_count": 50,
   "metadata": {},
   "outputs": [],
   "source": [
    "from tensorflow.keras.preprocessing.image import ImageDataGenerator\n",
    "from tensorflow.keras.utils import to_categorical"
   ]
  },
  {
   "cell_type": "code",
   "execution_count": 45,
   "metadata": {},
   "outputs": [],
   "source": [
    "from sklearn.preprocessing import LabelEncoder\n",
    "from sklearn.model_selection import train_test_split"
   ]
  },
  {
   "cell_type": "code",
   "execution_count": 46,
   "metadata": {},
   "outputs": [
    {
     "name": "stdout",
     "output_type": "stream",
     "text": [
      "['Cell', 'Cell-Multi', 'Cracking', 'Diode', 'Diode-Multi', 'Hot-Spot', 'Hot-Spot-Multi', 'No-Anomaly', 'Offline-Module', 'Shadowing', 'Soiling', 'Vegetation']\n"
     ]
    },
    {
     "data": {
      "text/plain": [
       "array([7, 7, 7, ..., 2, 7, 7])"
      ]
     },
     "execution_count": 46,
     "metadata": {},
     "output_type": "execute_result"
    }
   ],
   "source": [
    "le = LabelEncoder()\n",
    "le.fit(['No-Anomaly', 'Cell', 'Cell-Multi', 'Cracking', 'Diode', 'Diode-Multi', 'Hot-Spot', 'Hot-Spot-Multi', 'Offline-Module', 'Shadowing', 'Soiling', 'Vegetation'])\n",
    "print(list(le.classes_))\n",
    "le.transform(y)"
   ]
  },
  {
   "cell_type": "code",
   "execution_count": 74,
   "metadata": {},
   "outputs": [],
   "source": [
    "x_train, x_test, y_train, y_test = train_test_split(X, y, test_size=0.25, random_state=42)"
   ]
  },
  {
   "cell_type": "code",
   "execution_count": 100,
   "metadata": {},
   "outputs": [
    {
     "name": "stdout",
     "output_type": "stream",
     "text": [
      "[[0. 0. 0. ... 1. 0. 0.]\n",
      " [0. 0. 0. ... 0. 0. 0.]\n",
      " [0. 0. 0. ... 0. 0. 0.]\n",
      " ...\n",
      " [0. 0. 0. ... 0. 0. 0.]\n",
      " [0. 0. 0. ... 0. 0. 0.]\n",
      " [0. 0. 0. ... 0. 0. 0.]]\n"
     ]
    }
   ],
   "source": [
    "print(y_train_binary)"
   ]
  },
  {
   "cell_type": "code",
   "execution_count": 77,
   "metadata": {},
   "outputs": [],
   "source": [
    "img_rows, img_cols = 40, 24\n",
    "num_classes = 12\n",
    "\n",
    "#x_train = x_train_df.to_numpy()\n",
    "#x_test = x_test_df.to_numpy()\n",
    "\n",
    "x_train_reshaped = x_train.reshape(x_train.shape[0], img_rows, img_cols, 1)\n",
    "x_test_reshaped = x_test.reshape(x_test.shape[0], img_rows, img_cols, 1)\n",
    "\n",
    "y_train_binary = to_categorical(le.transform(y_train), num_classes)\n",
    "y_test_binary = to_categorical(le.transform(y_test), num_classes)"
   ]
  },
  {
   "cell_type": "code",
   "execution_count": 27,
   "metadata": {},
   "outputs": [],
   "source": [
    "from tensorflow.keras.models import Sequential\n",
    "from tensorflow.keras.layers import Dropout, Flatten, Dense, Conv2D, MaxPooling2D\n",
    "\n",
    "def classificationModel(filters_list, nodes_list, conv_filter_size, pool_filter_size, activation_list, dropout):\n",
    "    \n",
    "    model = Sequential()\n",
    "    model.add(Conv2D(filters_list[0], conv_filter_size, activation=activation_list[0], input_shape=image_shape))\n",
    "    model.add(MaxPooling2D(pool_size=pool_filter_size))\n",
    "    model.add(Conv2D(filters_list[1], conv_filter_size, activation=activation_list[0]))\n",
    "    model.add(MaxPooling2D(pool_size=pool_filter_size))\n",
    "    model.add(Conv2D(filters_list[2], conv_filter_size, activation=activation_list[0]))\n",
    "    model.add(MaxPooling2D(pool_size=pool_filter_size))\n",
    "    model.add(Flatten())\n",
    "    model.add(Dense(nodes_list[0], activation=activation_list[0]))\n",
    "    model.add(Dropout(dropout))\n",
    "    model.add(Dense(nodes_list[1], activation=activation_list[1]))\n",
    "    \n",
    "    return model\n",
    "    "
   ]
  },
  {
   "cell_type": "code",
   "execution_count": 106,
   "metadata": {},
   "outputs": [
    {
     "name": "stdout",
     "output_type": "stream",
     "text": [
      "Model: \"sequential_12\"\n",
      "_________________________________________________________________\n",
      "Layer (type)                 Output Shape              Param #   \n",
      "=================================================================\n",
      "conv2d_32 (Conv2D)           (None, 38, 22, 32)        320       \n",
      "_________________________________________________________________\n",
      "max_pooling2d_30 (MaxPooling (None, 19, 11, 32)        0         \n",
      "_________________________________________________________________\n",
      "conv2d_33 (Conv2D)           (None, 17, 9, 64)         18496     \n",
      "_________________________________________________________________\n",
      "max_pooling2d_31 (MaxPooling (None, 8, 4, 64)          0         \n",
      "_________________________________________________________________\n",
      "conv2d_34 (Conv2D)           (None, 6, 2, 64)          36928     \n",
      "_________________________________________________________________\n",
      "max_pooling2d_32 (MaxPooling (None, 3, 1, 64)          0         \n",
      "_________________________________________________________________\n",
      "flatten_10 (Flatten)         (None, 192)               0         \n",
      "_________________________________________________________________\n",
      "dense_20 (Dense)             (None, 128)               24704     \n",
      "_________________________________________________________________\n",
      "dropout_10 (Dropout)         (None, 128)               0         \n",
      "_________________________________________________________________\n",
      "dense_21 (Dense)             (None, 12)                1548      \n",
      "=================================================================\n",
      "Total params: 81,996\n",
      "Trainable params: 81,996\n",
      "Non-trainable params: 0\n",
      "_________________________________________________________________\n"
     ]
    }
   ],
   "source": [
    "model = classificationModel([32, 64, 64], [128, num_classes], 3, 2, ['relu', 'softmax'], 0.5)\n",
    "model.summary()"
   ]
  },
  {
   "cell_type": "code",
   "execution_count": 107,
   "metadata": {},
   "outputs": [],
   "source": [
    "model.compile(optimizer='SGD', loss='categorical_crossentropy', metrics=['AUC'])"
   ]
  },
  {
   "cell_type": "code",
   "execution_count": 90,
   "metadata": {},
   "outputs": [],
   "source": [
    "batch_size = 128\n",
    "epochs = 4"
   ]
  },
  {
   "cell_type": "code",
   "execution_count": 108,
   "metadata": {},
   "outputs": [
    {
     "name": "stdout",
     "output_type": "stream",
     "text": [
      "Epoch 1/4\n",
      "117/117 [==============================] - 9s 73ms/step - loss: 2.0617 - auc: 0.7507 - val_loss: 1.8515 - val_auc: 0.7978\n",
      "Epoch 2/4\n",
      "117/117 [==============================] - 9s 77ms/step - loss: 1.8793 - auc: 0.7911 - val_loss: 1.8258 - val_auc: 0.8075\n",
      "Epoch 3/4\n",
      "117/117 [==============================] - 9s 77ms/step - loss: 1.8567 - auc: 0.7980 - val_loss: 1.8131 - val_auc: 0.8093\n",
      "Epoch 4/4\n",
      "117/117 [==============================] - 9s 78ms/step - loss: 1.8399 - auc: 0.8026 - val_loss: 1.8043 - val_auc: 0.8114\n",
      "156/156 [==============================] - 1s 7ms/step - loss: 1.8043 - auc: 0.8114\n"
     ]
    }
   ],
   "source": [
    "model.fit(x_train_reshaped, y_train_binary, batch_size, epochs, validation_data=(x_test_reshaped, y_test_binary))\n",
    "loss = model.evaluate(x_test_reshaped, y_test_binary)\n",
    "results = model.predict(x_test_reshaped)"
   ]
  },
  {
   "cell_type": "code",
   "execution_count": 115,
   "metadata": {},
   "outputs": [
    {
     "name": "stdout",
     "output_type": "stream",
     "text": [
      "Loss: 1.8042711019515991\n",
      "Accuracy: 0.8113715648651123\n",
      "[[0.07989099 0.06077064 0.04673268 ... 0.04653941 0.01359702 0.07895671]\n",
      " [0.08239485 0.06302927 0.04895558 ... 0.04951662 0.01527982 0.08178192]\n",
      " [0.08148136 0.06337512 0.04975862 ... 0.04948734 0.01561604 0.07957096]\n",
      " ...\n",
      " [0.08316119 0.06413703 0.04990875 ... 0.05047848 0.0161427  0.08220628]\n",
      " [0.08049724 0.06123699 0.04744691 ... 0.04746706 0.01404742 0.07959191]\n",
      " [0.08200482 0.06318575 0.04918591 ... 0.04971274 0.01541614 0.08139557]]\n"
     ]
    }
   ],
   "source": [
    "print(\"Loss: {0}\\nAccuracy: {1}\".format(loss[0], loss[1]))\n",
    "print(results)"
   ]
  },
  {
   "cell_type": "code",
   "execution_count": 112,
   "metadata": {},
   "outputs": [],
   "source": [
    "from sklearn.metrics import roc_auc_score"
   ]
  },
  {
   "cell_type": "code",
   "execution_count": 116,
   "metadata": {},
   "outputs": [
    {
     "name": "stdout",
     "output_type": "stream",
     "text": [
      "0.3925239420309559\n"
     ]
    }
   ],
   "source": [
    "score = roc_auc_score(y_test_binary, results, multi_class='ovo')\n",
    "print(score)"
   ]
  },
  {
   "cell_type": "code",
   "execution_count": null,
   "metadata": {},
   "outputs": [],
   "source": [
    "def print_roc_curve()"
   ]
  }
 ],
 "metadata": {
  "colab": {
   "name": "starter_notebook.ipynb",
   "provenance": [],
   "toc_visible": true
  },
  "kernelspec": {
   "display_name": "Python 3",
   "language": "python",
   "name": "python3"
  },
  "language_info": {
   "codemirror_mode": {
    "name": "ipython",
    "version": 3
   },
   "file_extension": ".py",
   "mimetype": "text/x-python",
   "name": "python",
   "nbconvert_exporter": "python",
   "pygments_lexer": "ipython3",
   "version": "3.8.3"
  }
 },
 "nbformat": 4,
 "nbformat_minor": 1
}
